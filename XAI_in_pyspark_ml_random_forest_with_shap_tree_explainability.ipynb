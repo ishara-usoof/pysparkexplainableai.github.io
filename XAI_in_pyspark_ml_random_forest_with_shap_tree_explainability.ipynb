{
 "cells": [
  {
   "cell_type": "markdown",
   "id": "6b17be95",
   "metadata": {},
   "source": [
    "# Test feasibility XAI for Random Forest in pyspark"
   ]
  },
  {
   "cell_type": "code",
   "execution_count": 2,
   "id": "e094172a",
   "metadata": {},
   "outputs": [
    {
     "name": "stdout",
     "output_type": "stream",
     "text": [
      "Collecting pyspark\n",
      "  Using cached pyspark-3.4.1.tar.gz (310.8 MB)\n",
      "  Preparing metadata (setup.py): started\n",
      "  Preparing metadata (setup.py): finished with status 'done'\n",
      "Collecting py4j==0.10.9.7\n",
      "  Using cached py4j-0.10.9.7-py2.py3-none-any.whl (200 kB)\n",
      "Building wheels for collected packages: pyspark\n",
      "  Building wheel for pyspark (setup.py): started\n",
      "  Building wheel for pyspark (setup.py): finished with status 'done'\n",
      "  Created wheel for pyspark: filename=pyspark-3.4.1-py2.py3-none-any.whl size=311285415 sha256=e172650900d87f110c9e10c29775738ee673fbf575f89e8d186498a7df55f50d\n",
      "  Stored in directory: c:\\users\\isharau\\appdata\\local\\pip\\cache\\wheels\\53\\fe\\23\\517784b9d9dadfb82c5676e76483422096aa5dc20d4d602213\n",
      "Successfully built pyspark\n",
      "Installing collected packages: py4j, pyspark\n",
      "Successfully installed py4j-0.10.9.7 pyspark-3.4.1\n"
     ]
    }
   ],
   "source": [
    "#  import sys\n",
    "#  !{sys.executable} -m pip install pyspark"
   ]
  },
  {
   "cell_type": "code",
   "execution_count": 1,
   "id": "6233619f",
   "metadata": {},
   "outputs": [],
   "source": [
    "from pyspark.sql import SparkSession\n",
    "from pyspark.sql.functions import to_timestamp\n",
    "from pyspark.sql.functions import *\n",
    "from pyspark.sql.functions import weekofyear\n",
    "from pyspark.sql.functions import month\n",
    "from pyspark.sql.functions import sum,avg,max\n",
    "from pyspark.sql.window import Window\n",
    "from pyspark.sql.functions import row_number\n",
    "from pyspark.sql import functions as F\n",
    "from pyspark.sql.functions import lag"
   ]
  },
  {
   "cell_type": "code",
   "execution_count": 2,
   "id": "721201bc",
   "metadata": {},
   "outputs": [],
   "source": [
    "spark= SparkSession \\\n",
    "       .builder \\\n",
    "       .appName(\"XAIspark\") \\\n",
    "       .getOrCreate()\n"
   ]
  },
  {
   "cell_type": "markdown",
   "id": "c26b5175",
   "metadata": {},
   "source": [
    "https://www.kaggle.com/code/hellbuoy/online-retail-k-means-hierarchical-clustering/notebook"
   ]
  },
  {
   "cell_type": "code",
   "execution_count": 3,
   "id": "fa4b124a",
   "metadata": {},
   "outputs": [],
   "source": [
    "# import required libraries for dataframe and visualization\n",
    "\n",
    "import numpy as np\n",
    "import pandas as pd\n",
    "import matplotlib.pyplot as plt\n",
    "import seaborn as sns\n",
    "import datetime as dt\n",
    "\n",
    "# import required libraries for clustering\n",
    "import sklearn\n",
    "from sklearn.preprocessing import StandardScaler\n",
    "from sklearn.cluster import KMeans\n",
    "from sklearn.metrics import silhouette_score\n",
    "from scipy.cluster.hierarchy import linkage\n",
    "from scipy.cluster.hierarchy import dendrogram\n",
    "from scipy.cluster.hierarchy import cut_tree"
   ]
  },
  {
   "cell_type": "code",
   "execution_count": null,
   "id": "3f0d342b",
   "metadata": {},
   "outputs": [],
   "source": [
    "# import sys\n",
    "# !{sys.executable} -m pip install pyarrow"
   ]
  },
  {
   "cell_type": "code",
   "execution_count": 7,
   "id": "00c376a6",
   "metadata": {},
   "outputs": [],
   "source": [
    "import pyspark.sql.functions as f\n"
   ]
  },
  {
   "cell_type": "code",
   "execution_count": 8,
   "id": "7923d35f",
   "metadata": {},
   "outputs": [],
   "source": [
    "retail = spark.read.format(\"csv\").option(\"header\", \"true\").load(\"data/OnlineRetail.csv\")"
   ]
  },
  {
   "cell_type": "code",
   "execution_count": 9,
   "id": "31e91c8a",
   "metadata": {},
   "outputs": [
    {
     "data": {
      "text/plain": [
       "pyspark.sql.dataframe.DataFrame"
      ]
     },
     "execution_count": 9,
     "metadata": {},
     "output_type": "execute_result"
    }
   ],
   "source": [
    "type(retail)"
   ]
  },
  {
   "cell_type": "code",
   "execution_count": 10,
   "id": "f962593b",
   "metadata": {},
   "outputs": [
    {
     "name": "stdout",
     "output_type": "stream",
     "text": [
      "(541909, 8)\n"
     ]
    }
   ],
   "source": [
    "print((retail.count(), len(retail.columns)))"
   ]
  },
  {
   "cell_type": "markdown",
   "id": "29c71316",
   "metadata": {},
   "source": [
    "## Data cleaning "
   ]
  },
  {
   "cell_type": "code",
   "execution_count": 11,
   "id": "dbb872fb",
   "metadata": {},
   "outputs": [
    {
     "name": "stdout",
     "output_type": "stream",
     "text": [
      "+---------+---------+-----------+--------+-----------+---------+----------+-------+\n",
      "|InvoiceNo|StockCode|Description|Quantity|InvoiceDate|UnitPrice|CustomerID|Country|\n",
      "+---------+---------+-----------+--------+-----------+---------+----------+-------+\n",
      "|        0|        0|       1454|       0|          0|        0|    135080|      0|\n",
      "+---------+---------+-----------+--------+-----------+---------+----------+-------+\n",
      "\n"
     ]
    }
   ],
   "source": [
    "# Calculating the Missing Values % contribution in DF\n",
    " \n",
    "# Find Count of Null, None, NaN of All DataFrame Columns\n",
    "from pyspark.sql.functions import col,isnan, when, count\n",
    "retail.select([count(when(isnan(c)| col(c).isNull(), c)).alias(c) for c in retail.columns]\n",
    "   ).show()"
   ]
  },
  {
   "cell_type": "code",
   "execution_count": 12,
   "id": "06f482ca",
   "metadata": {},
   "outputs": [
    {
     "name": "stdout",
     "output_type": "stream",
     "text": [
      "(406829, 8)\n"
     ]
    }
   ],
   "source": [
    "# Droping rows having missing values\n",
    "\n",
    "retail = retail.dropna()\n",
    "print((retail.count(), len(retail.columns)))"
   ]
  },
  {
   "cell_type": "code",
   "execution_count": 66,
   "id": "74192025",
   "metadata": {},
   "outputs": [
    {
     "name": "stdout",
     "output_type": "stream",
     "text": [
      "+----------+------------------+\n",
      "|CustomerID|            Amount|\n",
      "+----------+------------------+\n",
      "|     16250|            389.44|\n",
      "|     15574| 702.2500000000002|\n",
      "|     15555| 4758.200000000002|\n",
      "|     15271|2485.8199999999997|\n",
      "|     17714|             153.0|\n",
      "+----------+------------------+\n",
      "only showing top 5 rows\n",
      "\n"
     ]
    }
   ],
   "source": [
    "# New Attribute : Monetary\n",
    "\n",
    "retail = retail.withColumn('Amount' , f.col('Quantity')*f.col('UnitPrice'))\n",
    "\n",
    "rfm_m = retail.groupBy('CustomerID').agg(f.sum('Amount').alias('Amount'))\n",
    "\n",
    "#rfm_m = rfm_m.reset_index()\n",
    "rfm_m.show(5)"
   ]
  },
  {
   "cell_type": "code",
   "execution_count": 67,
   "id": "52d5a71c",
   "metadata": {},
   "outputs": [
    {
     "name": "stdout",
     "output_type": "stream",
     "text": [
      "+----------+---------+\n",
      "|CustomerID|Frequency|\n",
      "+----------+---------+\n",
      "|     16250|       24|\n",
      "|     15574|      168|\n",
      "|     15555|      925|\n",
      "|     15271|      275|\n",
      "|     17714|       10|\n",
      "+----------+---------+\n",
      "only showing top 5 rows\n",
      "\n"
     ]
    }
   ],
   "source": [
    "# New Attribute : Frequency\n",
    "rfm_f = retail.groupBy('CustomerID').agg(f.count('InvoiceNo').alias('Frequency'))\n",
    "\n",
    "#rfm_f = rfm_f.reset_index()\n",
    "rfm_f.select('CustomerID', 'Frequency').show(5)\n",
    "rfm_f = rfm_f.select('CustomerID', 'Frequency')"
   ]
  },
  {
   "cell_type": "code",
   "execution_count": 82,
   "id": "8f26102b",
   "metadata": {},
   "outputs": [
    {
     "name": "stdout",
     "output_type": "stream",
     "text": [
      "+----------+------------------+---------+\n",
      "|CustomerID|            Amount|Frequency|\n",
      "+----------+------------------+---------+\n",
      "|     16250|            389.44|       24|\n",
      "|     15574| 702.2500000000002|      168|\n",
      "|     15555| 4758.200000000002|      925|\n",
      "|     15271|2485.8199999999997|      275|\n",
      "|     17714|             153.0|       10|\n",
      "+----------+------------------+---------+\n",
      "only showing top 5 rows\n",
      "\n"
     ]
    }
   ],
   "source": [
    "# Merging the two dfs\n",
    "\n",
    "rfm = rfm_m.join(rfm_f, on='CustomerID', how='inner')\n",
    "rfm.show(5)"
   ]
  },
  {
   "cell_type": "code",
   "execution_count": 83,
   "id": "dc5d72d8",
   "metadata": {},
   "outputs": [
    {
     "name": "stdout",
     "output_type": "stream",
     "text": [
      "+---------+---------+--------------------+--------+-------------------+---------+----------+--------------+------------------+-------------------+----+\n",
      "|InvoiceNo|StockCode|         Description|Quantity|        InvoiceDate|UnitPrice|CustomerID|       Country|            Amount|           max_date|Diff|\n",
      "+---------+---------+--------------------+--------+-------------------+---------+----------+--------------+------------------+-------------------+----+\n",
      "|   536365|   85123A|WHITE HANGING HEA...|       6|2010-12-01 08:26:00|     2.55|     17850|United Kingdom|15.299999999999999|2011-12-09 12:50:00| 373|\n",
      "|   536365|    71053| WHITE METAL LANTERN|       6|2010-12-01 08:26:00|     3.39|     17850|United Kingdom|             20.34|2011-12-09 12:50:00| 373|\n",
      "|   536365|   84406B|CREAM CUPID HEART...|       8|2010-12-01 08:26:00|     2.75|     17850|United Kingdom|              22.0|2011-12-09 12:50:00| 373|\n",
      "|   536365|   84029G|KNITTED UNION FLA...|       6|2010-12-01 08:26:00|     3.39|     17850|United Kingdom|             20.34|2011-12-09 12:50:00| 373|\n",
      "|   536365|   84029E|RED WOOLLY HOTTIE...|       6|2010-12-01 08:26:00|     3.39|     17850|United Kingdom|             20.34|2011-12-09 12:50:00| 373|\n",
      "+---------+---------+--------------------+--------+-------------------+---------+----------+--------------+------------------+-------------------+----+\n",
      "only showing top 5 rows\n",
      "\n"
     ]
    }
   ],
   "source": [
    "# New Attribute : Recency\n",
    "\n",
    "# Convert to datetime to proper datatype\n",
    "retail = retail.withColumn(\"InvoiceDate\", to_timestamp(f.col('InvoiceDate'), 'dd-MM-yyyy HH:mm'))\n",
    "\n",
    "retail.show(5)"
   ]
  },
  {
   "cell_type": "code",
   "execution_count": 84,
   "id": "41758800",
   "metadata": {},
   "outputs": [
    {
     "data": {
      "text/plain": [
       "datetime.datetime(2011, 12, 9, 12, 50)"
      ]
     },
     "execution_count": 84,
     "metadata": {},
     "output_type": "execute_result"
    }
   ],
   "source": [
    "# Compute the maximum date to know the last transaction date\n",
    "\n",
    "max_date = retail.agg(f.max('InvoiceDate')).take(1)[0][0]\n",
    "max_date"
   ]
  },
  {
   "cell_type": "code",
   "execution_count": 85,
   "id": "13329c6c",
   "metadata": {},
   "outputs": [
    {
     "name": "stdout",
     "output_type": "stream",
     "text": [
      "+-------------------+-------------------+----+\n",
      "|        InvoiceDate|           max_date|Diff|\n",
      "+-------------------+-------------------+----+\n",
      "|2010-12-01 08:26:00|2011-12-09 12:50:00| 373|\n",
      "|2010-12-01 08:26:00|2011-12-09 12:50:00| 373|\n",
      "|2010-12-01 08:26:00|2011-12-09 12:50:00| 373|\n",
      "|2010-12-01 08:26:00|2011-12-09 12:50:00| 373|\n",
      "|2010-12-01 08:26:00|2011-12-09 12:50:00| 373|\n",
      "+-------------------+-------------------+----+\n",
      "only showing top 5 rows\n",
      "\n"
     ]
    }
   ],
   "source": [
    "# Compute the difference between max date and transaction date\n",
    "\n",
    "retail = (retail\n",
    "          .withColumn('max_date' , f.lit(max_date))\n",
    "          .withColumn('Diff' ,  f.datediff(f.col('max_date'), f.col('InvoiceDate'))))\n",
    "\n",
    "retail.select('InvoiceDate' , 'max_date' , 'Diff').show(5)"
   ]
  },
  {
   "cell_type": "code",
   "execution_count": 86,
   "id": "84fc0a99",
   "metadata": {},
   "outputs": [
    {
     "name": "stdout",
     "output_type": "stream",
     "text": [
      "+----------+-------+\n",
      "|CustomerID|Recency|\n",
      "+----------+-------+\n",
      "|     16250|    261|\n",
      "|     15574|    177|\n",
      "|     15555|     12|\n",
      "|     15271|      7|\n",
      "|     17714|    320|\n",
      "+----------+-------+\n",
      "only showing top 5 rows\n",
      "\n"
     ]
    }
   ],
   "source": [
    "# Compute last transaction date to get the recency of customers\n",
    "rfm_p = (retail\n",
    "         .groupby('CustomerID')\n",
    "         .agg(f.min('Diff').alias('Recency'))\n",
    "        )\n",
    "rfm_p.show(5)"
   ]
  },
  {
   "cell_type": "code",
   "execution_count": 87,
   "id": "ba2ec123",
   "metadata": {},
   "outputs": [
    {
     "name": "stdout",
     "output_type": "stream",
     "text": [
      "+----------+------------------+---------+-------+\n",
      "|CustomerID|            Amount|Frequency|Recency|\n",
      "+----------+------------------+---------+-------+\n",
      "|     16250|            389.44|       24|    261|\n",
      "|     15574| 702.2500000000002|      168|    177|\n",
      "|     15555| 4758.200000000002|      925|     12|\n",
      "|     15271|2485.8199999999997|      275|      7|\n",
      "|     17714|             153.0|       10|    320|\n",
      "+----------+------------------+---------+-------+\n",
      "only showing top 5 rows\n",
      "\n"
     ]
    }
   ],
   "source": [
    "# Merge tha dataframes to get the final RFM dataframe\n",
    "\n",
    "rfm = rfm.join(rfm_p, on='CustomerID', how='inner')\n",
    "rfm = rfm.select('CustomerID', 'Amount', 'Frequency', 'Recency')\n",
    "rfm.show(5)"
   ]
  },
  {
   "cell_type": "markdown",
   "id": "f965f388",
   "metadata": {},
   "source": [
    "## Handling Outliers"
   ]
  },
  {
   "cell_type": "code",
   "execution_count": 88,
   "id": "c16fd9f0",
   "metadata": {},
   "outputs": [
    {
     "data": {
      "text/plain": [
       "[101.10000000000001, 5639.15]"
      ]
     },
     "execution_count": 88,
     "metadata": {},
     "output_type": "execute_result"
    }
   ],
   "source": [
    "quantiles = rfm.approxQuantile(\"Amount\", [0.05, 0.95], 0)\n",
    "quantiles"
   ]
  },
  {
   "cell_type": "code",
   "execution_count": 89,
   "id": "32fa20bf",
   "metadata": {},
   "outputs": [
    {
     "name": "stdout",
     "output_type": "stream",
     "text": [
      "(4314, 4)\n"
     ]
    }
   ],
   "source": [
    "# Removing (statistical) outliers for Amount\n",
    "Q1 = quantiles[0]\n",
    "Q3 = quantiles[1]\n",
    "IQR = Q3 - Q1\n",
    "\n",
    "rfm = rfm.filter((f.col('Amount') >= Q1 - 1.5*IQR ) & (f.col('Amount') <= Q3 + 1.5*IQR ) ) \n",
    "\n",
    "print((rfm.count(), len(rfm.columns)))"
   ]
  },
  {
   "cell_type": "code",
   "execution_count": 90,
   "id": "a022e4dc",
   "metadata": {},
   "outputs": [
    {
     "name": "stdout",
     "output_type": "stream",
     "text": [
      "(4301, 4)\n",
      "(4301, 4)\n",
      "(4281, 4)\n"
     ]
    }
   ],
   "source": [
    "# Removing (statistical) outliers for Amount\n",
    "quantiles = rfm.approxQuantile(\"Amount\", [0.05, 0.95], 0)\n",
    "Q1 = quantiles[0]\n",
    "Q3 = quantiles[1]\n",
    "IQR = Q3 - Q1\n",
    "\n",
    "rfm = rfm.filter((f.col('Amount') >= Q1 - 1.5*IQR ) & (f.col('Amount') <= Q3 + 1.5*IQR ) ) \n",
    "\n",
    "print((rfm.count(), len(rfm.columns)))\n",
    "# Removing (statistical) outliers for Recency\n",
    "quantiles = rfm.approxQuantile(\"Recency\", [0.05, 0.95], 0)\n",
    "Q1 = quantiles[0]\n",
    "Q3 = quantiles[1]\n",
    "IQR = Q3 - Q1\n",
    "\n",
    "rfm = rfm.filter((f.col('Recency') >= Q1 - 1.5*IQR ) & (f.col('Recency') <= Q3 + 1.5*IQR ) ) \n",
    "print((rfm.count(), len(rfm.columns)))\n",
    "\n",
    "# Removing (statistical) outliers for Frequency\n",
    "quantiles = rfm.approxQuantile(\"Frequency\", [0.05, 0.95], 0)\n",
    "Q1 = quantiles[0]\n",
    "Q3 = quantiles[1]\n",
    "IQR = Q3 - Q1\n",
    "\n",
    "rfm = rfm.filter((f.col('Frequency') >= Q1 - 1.5*IQR ) & (f.col('Frequency') <= Q3 + 1.5*IQR ) ) \n",
    "print((rfm.count(), len(rfm.columns)))"
   ]
  },
  {
   "cell_type": "code",
   "execution_count": 92,
   "id": "17fb4b1b",
   "metadata": {},
   "outputs": [],
   "source": [
    "feature_cols = ['Amount', 'Frequency', 'Recency']"
   ]
  },
  {
   "cell_type": "markdown",
   "id": "a93d2e0d",
   "metadata": {},
   "source": [
    "## Vector Assembling"
   ]
  },
  {
   "cell_type": "code",
   "execution_count": 93,
   "id": "b9985bf1",
   "metadata": {},
   "outputs": [],
   "source": [
    "#vector assembler \n",
    "from pyspark.ml.feature import VectorAssembler\n",
    "\n",
    "assemble       = VectorAssembler(inputCols= feature_cols, outputCol='features', handleInvalid=\"keep\")\n",
    "assembled_data = assemble.transform(rfm)"
   ]
  },
  {
   "cell_type": "code",
   "execution_count": 94,
   "id": "39f312b3",
   "metadata": {},
   "outputs": [
    {
     "name": "stdout",
     "output_type": "stream",
     "text": [
      "+----------+------------------+---------+-------+--------------------+\n",
      "|CustomerID|            Amount|Frequency|Recency|            features|\n",
      "+----------+------------------+---------+-------+--------------------+\n",
      "|     16250|            389.44|       24|    261| [389.44,24.0,261.0]|\n",
      "|     15574| 702.2500000000002|      168|    177|[702.250000000000...|\n",
      "|     15271|2485.8199999999997|      275|      7|[2485.81999999999...|\n",
      "|     17714|             153.0|       10|    320|  [153.0,10.0,320.0]|\n",
      "|     17551|            306.84|       43|    359| [306.84,43.0,359.0]|\n",
      "+----------+------------------+---------+-------+--------------------+\n",
      "only showing top 5 rows\n",
      "\n"
     ]
    }
   ],
   "source": [
    "assembled_data.show(5)"
   ]
  },
  {
   "cell_type": "markdown",
   "id": "cc6d3f15",
   "metadata": {},
   "source": [
    "## Rescaling the attributes"
   ]
  },
  {
   "cell_type": "code",
   "execution_count": 95,
   "id": "743c8b48",
   "metadata": {},
   "outputs": [],
   "source": [
    "from pyspark.ml.feature import StandardScaler\n",
    "scale= StandardScaler(inputCol='features',outputCol='Scaled_features')  #save this and load \n",
    "data_scale=scale.fit(assembled_data)\n",
    "data_scale_output=data_scale.transform(assembled_data)"
   ]
  },
  {
   "cell_type": "code",
   "execution_count": 96,
   "id": "07527696",
   "metadata": {},
   "outputs": [
    {
     "name": "stdout",
     "output_type": "stream",
     "text": [
      "+----------+------------------+---------+-------+--------------------+--------------------+\n",
      "|CustomerID|            Amount|Frequency|Recency|            features|     Scaled_features|\n",
      "+----------+------------------+---------+-------+--------------------+--------------------+\n",
      "|     16250|            389.44|       24|    261| [389.44,24.0,261.0]|[0.23658248201602...|\n",
      "|     15574| 702.2500000000002|      168|    177|[702.250000000000...|[0.42661269514110...|\n",
      "|     15271|2485.8199999999997|      275|      7|[2485.81999999999...|[1.51012085416256...|\n",
      "|     17714|             153.0|       10|    320|  [153.0,10.0,320.0]|[0.09294658932942...|\n",
      "|     17551|            306.84|       43|    359| [306.84,43.0,359.0]|[0.18640347365909...|\n",
      "+----------+------------------+---------+-------+--------------------+--------------------+\n",
      "only showing top 5 rows\n",
      "\n"
     ]
    }
   ],
   "source": [
    "data_scale_output.show(5)"
   ]
  },
  {
   "cell_type": "markdown",
   "id": "979d4a5a",
   "metadata": {},
   "source": [
    "## Building the Model - Unsupervised learning - KMeans model"
   ]
  },
  {
   "cell_type": "code",
   "execution_count": 99,
   "id": "11f0bb54",
   "metadata": {},
   "outputs": [],
   "source": [
    "from pyspark.ml.clustering import KMeans\n",
    "kmeans=KMeans(featuresCol = 'Scaled_features' , k = 8)\n",
    "knn_model = kmeans.fit(data_scale_output.select('Scaled_features'))"
   ]
  },
  {
   "cell_type": "code",
   "execution_count": 100,
   "id": "bd0b32f6",
   "metadata": {},
   "outputs": [],
   "source": [
    "transformed = knn_model.transform(data_scale_output)"
   ]
  },
  {
   "cell_type": "code",
   "execution_count": 102,
   "id": "54f8284f",
   "metadata": {
    "scrolled": true
   },
   "outputs": [
    {
     "name": "stdout",
     "output_type": "stream",
     "text": [
      "+----------+------------------+---------+-------+--------------------+--------------------+----------+\n",
      "|CustomerID|            Amount|Frequency|Recency|            features|     Scaled_features|prediction|\n",
      "+----------+------------------+---------+-------+--------------------+--------------------+----------+\n",
      "|     16250|            389.44|       24|    261| [389.44,24.0,261.0]|[0.23658248201602...|         0|\n",
      "|     15574| 702.2500000000002|      168|    177|[702.250000000000...|[0.42661269514110...|         4|\n",
      "|     15271|2485.8199999999997|      275|      7|[2485.81999999999...|[1.51012085416256...|         2|\n",
      "|     17714|             153.0|       10|    320|  [153.0,10.0,320.0]|[0.09294658932942...|         0|\n",
      "|     17551|            306.84|       43|    359| [306.84,43.0,359.0]|[0.18640347365909...|         0|\n",
      "+----------+------------------+---------+-------+--------------------+--------------------+----------+\n",
      "only showing top 5 rows\n",
      "\n"
     ]
    }
   ],
   "source": [
    "transformed.show(5)"
   ]
  },
  {
   "cell_type": "code",
   "execution_count": 105,
   "id": "6b031847",
   "metadata": {},
   "outputs": [
    {
     "name": "stdout",
     "output_type": "stream",
     "text": [
      "+----------+-----+------------------+------------------+------------------+------------------+------------------+\n",
      "|prediction|count|            Amount|           Recency|         Frequency|          client %|           sales %|\n",
      "+----------+-----+------------------+------------------+------------------+------------------+------------------+\n",
      "|         1| 1583| 532.1449292482622| 40.45041061276058| 31.96778269109286|36.977341742583505|2.1444898873394145|\n",
      "|         6|   88|2990.8739772727276|16.113636363636363|460.71590909090907|2.0555944872693295|12.052917628339731|\n",
      "|         3|   85| 7594.468117647057|              13.2|393.83529411764704| 1.985517402476057|30.604933323376017|\n",
      "|         5|   58| 7893.434137931034|38.672413793103445|114.91379310344827|1.3548236393366035|31.809735947470912|\n",
      "|         4|  697|511.30067431850756|163.94117647058823|31.319942611190818|16.281242700303665| 2.060489662120451|\n",
      "|         7|  793|1618.7298486759144|32.939470365699876|107.45649432534678| 18.52370941368839| 6.523316487716575|\n",
      "|         2|  374| 3340.800056149734| 28.41711229946524| 203.6042780748663|  8.73627657089465|13.463084100334774|\n",
      "|         0|  603| 332.7709286898842| 298.0082918739635| 21.71475953565506|14.085494043447794|1.3410329633021352|\n",
      "+----------+-----+------------------+------------------+------------------+------------------+------------------+\n",
      "\n"
     ]
    }
   ],
   "source": [
    "summary = (transformed.groupBy(\"prediction\")\n",
    "            .agg(f.countDistinct(\"CustomerID\").alias(\"count\"),\n",
    "                 f.avg(\"Amount\").alias(\"Amount\"),\n",
    "                 f.avg(\"Recency\").alias(\"Recency\"),\n",
    "                 f.avg(\"Frequency\").alias(\"Frequency\")               \n",
    "                )\n",
    "            .withColumn('client %',( f.col('count')/f.sum('count').over(Window.partitionBy()) )*100   )\n",
    "            .withColumn('sales %',( f.col('Amount')/f.sum('Amount').over(Window.partitionBy()) )*100  )  \n",
    "          )\n",
    "    \n",
    "summary.show()"
   ]
  },
  {
   "cell_type": "markdown",
   "id": "11f04706",
   "metadata": {},
   "source": [
    "## Building the Model - Supervised learning -Random forest model"
   ]
  },
  {
   "cell_type": "code",
   "execution_count": 108,
   "id": "2fa54ad5",
   "metadata": {},
   "outputs": [],
   "source": [
    "\n",
    "final_data =(transformed\n",
    "             .withColumnRenamed(\"prediction\", \"Cluster_ID\")\n",
    "             .select('Scaled_features','Cluster_ID')\n",
    "            )"
   ]
  },
  {
   "cell_type": "code",
   "execution_count": 109,
   "id": "d3cc1052",
   "metadata": {},
   "outputs": [],
   "source": [
    "#Splitting train and test data\n",
    "train, test = final_data.randomSplit([0.75,0.25], seed = 25)"
   ]
  },
  {
   "cell_type": "code",
   "execution_count": 110,
   "id": "f4fb0a2a",
   "metadata": {},
   "outputs": [],
   "source": [
    "from pyspark.ml.classification import RandomForestClassifier\n",
    "rf  = RandomForestClassifier(featuresCol = 'Scaled_features', labelCol = 'Cluster_ID', maxDepth = 10)\n",
    "rfModel = rf.fit(train)\n",
    "predictions = rfModel.transform(test)"
   ]
  },
  {
   "cell_type": "markdown",
   "id": "88a421bd",
   "metadata": {},
   "source": [
    "## Evaluation"
   ]
  },
  {
   "cell_type": "code",
   "execution_count": 111,
   "id": "c77c58aa",
   "metadata": {},
   "outputs": [
    {
     "data": {
      "text/plain": [
       "0.9487179487179487"
      ]
     },
     "execution_count": 111,
     "metadata": {},
     "output_type": "execute_result"
    }
   ],
   "source": [
    "from pyspark.ml.evaluation import MulticlassClassificationEvaluator\n",
    "evaluator = MulticlassClassificationEvaluator(labelCol = \"Cluster_ID\", predictionCol = \"prediction\" , metricName = \"accuracy\")\n",
    "evaluator.evaluate(predictions)"
   ]
  },
  {
   "cell_type": "code",
   "execution_count": 117,
   "id": "34af8058",
   "metadata": {},
   "outputs": [
    {
     "data": {
      "text/plain": [
       "0.5394299880873227"
      ]
     },
     "execution_count": 117,
     "metadata": {},
     "output_type": "execute_result"
    }
   ],
   "source": [
    "from pyspark.ml.evaluation import ClusteringEvaluator\n",
    "evaluator2 = ClusteringEvaluator( featuresCol = \"Scaled_features\", predictionCol = \"prediction\" ,metricName = \"silhouette\")\n",
    "evaluator2.evaluate(predictions)"
   ]
  },
  {
   "cell_type": "code",
   "execution_count": null,
   "id": "5436101f",
   "metadata": {},
   "outputs": [],
   "source": [
    "# Silhouette analysis\n",
    "range_n_clusters = [2, 3, 4, 5, 6, 7, 8]\n",
    "\n",
    "for num_clusters in range_n_clusters:\n",
    "    # intialise kmeans\n",
    "    kmeans=KMeans(featuresCol = 'Scaled_features' , k = num_clusters)\n",
    "    knn_model = kmeans.fit(data_scale_output.select('Scaled_features'))\n",
    "    transformed = knn_model.transform(data_scale_output)\n",
    "   \n",
    "    \n",
    "    # silhouette score\n",
    "    evaluator2 = ClusteringEvaluator( featuresCol = \"Scaled_features\", predictionCol = \"prediction\" ,metricName = \"silhouette\")\n",
    "    silhouette_avg = evaluator2.evaluate(transformed)\n",
    "    print(\"For n_clusters={0}, the silhouette score is {1}\".format(num_clusters, silhouette_avg))\n",
    "    "
   ]
  },
  {
   "cell_type": "markdown",
   "id": "b0e8ab55",
   "metadata": {},
   "source": [
    "## XAI"
   ]
  },
  {
   "cell_type": "code",
   "execution_count": 166,
   "id": "54757d8c",
   "metadata": {},
   "outputs": [],
   "source": [
    "import shap\n",
    "import pyspark \n",
    "import pyspark.pandas as ps\n",
    "\n",
    "# def spark_shape(self):\n",
    "#     return self.toPandas().shape\n",
    "\n",
    "# pyspark.sql.dataframe.DataFrame.shape = spark_shape"
   ]
  },
  {
   "cell_type": "code",
   "execution_count": 318,
   "id": "a5ca7728",
   "metadata": {},
   "outputs": [],
   "source": [
    "X=rfm.select(*feature_cols)\n",
    "# X2 = ps.DataFrame(X)"
   ]
  },
  {
   "cell_type": "markdown",
   "id": "ccd91621",
   "metadata": {},
   "source": [
    "\n",
    "#pyspark.pandas.DataFrame.dtypes = pyspark.pandas.Series.dtype"
   ]
  },
  {
   "cell_type": "code",
   "execution_count": 295,
   "id": "e196d507",
   "metadata": {},
   "outputs": [],
   "source": [
    "# def spark_reshape(self):\n",
    "#     return self.toPandas().reshape\n",
    "\n",
    "# pyspark.sql.dataframe.DataFrame.reshape = spark_reshape"
   ]
  },
  {
   "cell_type": "code",
   "execution_count": 319,
   "id": "799b4f3c",
   "metadata": {},
   "outputs": [],
   "source": [
    "X2 = X.toPandas()"
   ]
  },
  {
   "cell_type": "markdown",
   "id": "91ca94bc",
   "metadata": {},
   "source": [
    "# This is because we are using random forest in pyspark not sklearn"
   ]
  },
  {
   "cell_type": "code",
   "execution_count": 316,
   "id": "a0a8ff9c",
   "metadata": {
    "scrolled": true
   },
   "outputs": [
    {
     "name": "stderr",
     "output_type": "stream",
     "text": [
      "check_additivity requires us to run predictions which is not supported with spark, ignoring. Set check_additivity=False to remove this warning\n"
     ]
    },
    {
     "data": {
      "image/png": "[encoded data removed]",
      "text/plain": [
       "<Figure size 800x270 with 1 Axes>"
      ]
     },
     "metadata": {},
     "output_type": "display_data"
    }
   ],
   "source": [
    "# Generate the Tree explainer and SHAP values\n",
    "explainer = shap.TreeExplainer(rfModel)\n",
    "shap_values = explainer.shap_values(X2)\n",
    "expected_value = explainer.expected_value\n",
    "\n",
    "############## visualizations #############\n",
    "# Generate summary dot plot\n",
    "shap.summary_plot(shap_values, X2,title=\"SHAP summary plot\") "
   ]
  },
  {
   "cell_type": "code",
   "execution_count": null,
   "id": "eab1d279",
   "metadata": {},
   "outputs": [],
   "source": [
    "# Generate Decision plot \n",
    "(shap.decision_plot(expected_value, shap_values[5],link='logit',\n",
    "                features=X2.loc[5,:], \n",
    "                feature_names=(X2.columns.tolist()),\n",
    "                show=True,\n",
    "                title=\"Decision Plot\"))"
   ]
  },
  {
   "cell_type": "code",
   "execution_count": 317,
   "id": "72baa269",
   "metadata": {},
   "outputs": [
    {
     "ename": "AttributeError",
     "evalue": "'numpy.ndarray' object has no attribute 'base_values'",
     "output_type": "error",
     "traceback": [
      "\u001b[1;31m---------------------------------------------------------------------------\u001b[0m",
      "\u001b[1;31mAttributeError\u001b[0m                            Traceback (most recent call last)",
      "Cell \u001b[1;32mIn[317], line 4\u001b[0m\n\u001b[0;32m      1\u001b[0m \u001b[38;5;66;03m# Generate waterfall plot  \u001b[39;00m\n\u001b[0;32m      2\u001b[0m (\u001b[43mshap\u001b[49m\n\u001b[0;32m      3\u001b[0m \u001b[43m \u001b[49m\u001b[38;5;241;43m.\u001b[39;49m\u001b[43mplots\u001b[49m\n\u001b[1;32m----> 4\u001b[0m \u001b[43m \u001b[49m\u001b[38;5;241;43m.\u001b[39;49m\u001b[43mwaterfall\u001b[49m\u001b[43m(\u001b[49m\u001b[43mshap_values\u001b[49m\u001b[43m[\u001b[49m\u001b[38;5;241;43m0\u001b[39;49m\u001b[43m]\u001b[49m\u001b[43m)\u001b[49m\n\u001b[0;32m      5\u001b[0m  )\n",
      "File \u001b[1;32m~\\AppData\\Local\\anaconda3\\lib\\site-packages\\shap\\plots\\_waterfall.py:45\u001b[0m, in \u001b[0;36mwaterfall\u001b[1;34m(shap_values, max_display, show)\u001b[0m\n\u001b[0;32m     42\u001b[0m \u001b[38;5;28;01mif\u001b[39;00m show \u001b[38;5;129;01mis\u001b[39;00m \u001b[38;5;28;01mFalse\u001b[39;00m:\n\u001b[0;32m     43\u001b[0m     plt\u001b[38;5;241m.\u001b[39mioff()\n\u001b[1;32m---> 45\u001b[0m base_values \u001b[38;5;241m=\u001b[39m \u001b[43mshap_values\u001b[49m\u001b[38;5;241;43m.\u001b[39;49m\u001b[43mbase_values\u001b[49m\n\u001b[0;32m     46\u001b[0m features \u001b[38;5;241m=\u001b[39m shap_values\u001b[38;5;241m.\u001b[39mdisplay_data \u001b[38;5;28;01mif\u001b[39;00m shap_values\u001b[38;5;241m.\u001b[39mdisplay_data \u001b[38;5;129;01mis\u001b[39;00m \u001b[38;5;129;01mnot\u001b[39;00m \u001b[38;5;28;01mNone\u001b[39;00m \u001b[38;5;28;01melse\u001b[39;00m shap_values\u001b[38;5;241m.\u001b[39mdata\n\u001b[0;32m     47\u001b[0m feature_names \u001b[38;5;241m=\u001b[39m shap_values\u001b[38;5;241m.\u001b[39mfeature_names\n",
      "\u001b[1;31mAttributeError\u001b[0m: 'numpy.ndarray' object has no attribute 'base_values'"
     ]
    }
   ],
   "source": [
    "# Generate waterfall plot  \n",
    "(shap\n",
    " .plots\n",
    " .waterfall(shap_values[0])\n",
    " )"
   ]
  },
  {
   "cell_type": "code",
   "execution_count": 310,
   "id": "655ef183",
   "metadata": {},
   "outputs": [
    {
     "ename": "Exception",
     "evalue": "waterfall_plot requires a scalar expected_value of the model output as the first parameter, but you have passed an array as the first parameter! Try shap.waterfall_plot(explainer.expected_value[0], shap_values[0], X[0]) or for multi-output models try shap.waterfall_plot(explainer.expected_value[0], shap_values[0][0], X[0]).",
     "output_type": "error",
     "traceback": [
      "\u001b[1;31m---------------------------------------------------------------------------\u001b[0m",
      "\u001b[1;31mException\u001b[0m                                 Traceback (most recent call last)",
      "Cell \u001b[1;32mIn[310], line 2\u001b[0m\n\u001b[0;32m      1\u001b[0m \u001b[38;5;66;03m# Generate waterfall plot  \u001b[39;00m\n\u001b[1;32m----> 2\u001b[0m (\u001b[43mshap\u001b[49m\n\u001b[0;32m      3\u001b[0m \u001b[43m \u001b[49m\u001b[38;5;241;43m.\u001b[39;49m\u001b[43mplots\u001b[49m\n\u001b[0;32m      4\u001b[0m \u001b[43m \u001b[49m\u001b[38;5;241;43m.\u001b[39;49m\u001b[43m_waterfall\u001b[49m\n\u001b[0;32m      5\u001b[0m \u001b[43m \u001b[49m\u001b[38;5;241;43m.\u001b[39;49m\u001b[43mwaterfall_legacy\u001b[49m\u001b[43m(\u001b[49m\u001b[43mshap_values\u001b[49m\u001b[43m,\u001b[49m\u001b[43m \u001b[49m\u001b[43mmax_display\u001b[49m\u001b[38;5;241;43m=\u001b[39;49m\u001b[38;5;241;43m3\u001b[39;49m\u001b[43m,\u001b[49m\u001b[43m \u001b[49m\u001b[43mshow\u001b[49m\u001b[38;5;241;43m=\u001b[39;49m\u001b[38;5;28;43;01mTrue\u001b[39;49;00m\u001b[43m)\u001b[49m)\n",
      "File \u001b[1;32m~\\AppData\\Local\\anaconda3\\lib\\site-packages\\shap\\plots\\_waterfall.py:364\u001b[0m, in \u001b[0;36mwaterfall_legacy\u001b[1;34m(expected_value, shap_values, features, feature_names, max_display, show)\u001b[0m\n\u001b[0;32m    362\u001b[0m \u001b[38;5;66;03m# make sure we only have a single output to explain\u001b[39;00m\n\u001b[0;32m    363\u001b[0m \u001b[38;5;28;01mif\u001b[39;00m (\u001b[38;5;28mtype\u001b[39m(expected_value) \u001b[38;5;241m==\u001b[39m np\u001b[38;5;241m.\u001b[39mndarray \u001b[38;5;129;01mand\u001b[39;00m \u001b[38;5;28mlen\u001b[39m(expected_value) \u001b[38;5;241m>\u001b[39m \u001b[38;5;241m0\u001b[39m) \u001b[38;5;129;01mor\u001b[39;00m \u001b[38;5;28mtype\u001b[39m(expected_value) \u001b[38;5;241m==\u001b[39m \u001b[38;5;28mlist\u001b[39m:\n\u001b[1;32m--> 364\u001b[0m     \u001b[38;5;28;01mraise\u001b[39;00m \u001b[38;5;167;01mException\u001b[39;00m(\u001b[38;5;124m\"\u001b[39m\u001b[38;5;124mwaterfall_plot requires a scalar expected_value of the model output as the first \u001b[39m\u001b[38;5;124m\"\u001b[39m\n\u001b[0;32m    365\u001b[0m                     \u001b[38;5;124m\"\u001b[39m\u001b[38;5;124mparameter, but you have passed an array as the first parameter! \u001b[39m\u001b[38;5;124m\"\u001b[39m\n\u001b[0;32m    366\u001b[0m                     \u001b[38;5;124m\"\u001b[39m\u001b[38;5;124mTry shap.waterfall_plot(explainer.expected_value[0], shap_values[0], X[0]) or \u001b[39m\u001b[38;5;124m\"\u001b[39m\n\u001b[0;32m    367\u001b[0m                     \u001b[38;5;124m\"\u001b[39m\u001b[38;5;124mfor multi-output models try \u001b[39m\u001b[38;5;124m\"\u001b[39m\n\u001b[0;32m    368\u001b[0m                     \u001b[38;5;124m\"\u001b[39m\u001b[38;5;124mshap.waterfall_plot(explainer.expected_value[0], shap_values[0][0], X[0]).\u001b[39m\u001b[38;5;124m\"\u001b[39m)\n\u001b[0;32m    370\u001b[0m \u001b[38;5;66;03m# make sure we only have a single explanation to plot\u001b[39;00m\n\u001b[0;32m    371\u001b[0m \u001b[38;5;28;01mif\u001b[39;00m \u001b[38;5;28mlen\u001b[39m(shap_values\u001b[38;5;241m.\u001b[39mshape) \u001b[38;5;241m==\u001b[39m \u001b[38;5;241m2\u001b[39m:\n",
      "\u001b[1;31mException\u001b[0m: waterfall_plot requires a scalar expected_value of the model output as the first parameter, but you have passed an array as the first parameter! Try shap.waterfall_plot(explainer.expected_value[0], shap_values[0], X[0]) or for multi-output models try shap.waterfall_plot(explainer.expected_value[0], shap_values[0][0], X[0])."
     ]
    }
   ],
   "source": [
    "# Generate waterfall plot  \n",
    "(shap\n",
    " .plots\n",
    " ._waterfall\n",
    " .waterfall_legacy(expected_value,\n",
    "                   shap_values[3],\n",
    "                   features=X2.loc[3,:],\n",
    "                   feature_names=X2.columns,\n",
    "                   max_display=15,\n",
    "                   show=True))"
   ]
  },
  {
   "cell_type": "code",
   "execution_count": 320,
   "id": "e7f8889c",
   "metadata": {
    "scrolled": true
   },
   "outputs": [
    {
     "ename": "TypeError",
     "evalue": "list indices must be integers or slices, not tuple",
     "output_type": "error",
     "traceback": [
      "\u001b[1;31m---------------------------------------------------------------------------\u001b[0m",
      "\u001b[1;31mTypeError\u001b[0m                                 Traceback (most recent call last)",
      "Cell \u001b[1;32mIn[320], line 2\u001b[0m\n\u001b[0;32m      1\u001b[0m \u001b[38;5;66;03m# visualize the first prediction's explaination with default colors\u001b[39;00m\n\u001b[1;32m----> 2\u001b[0m shap\u001b[38;5;241m.\u001b[39mforce_plot(explainer\u001b[38;5;241m.\u001b[39mexpected_value, \u001b[43mshap_values\u001b[49m\u001b[43m[\u001b[49m\u001b[38;5;241;43m0\u001b[39;49m\u001b[43m,\u001b[49m\u001b[43m:\u001b[49m\u001b[43m]\u001b[49m, X2\u001b[38;5;241m.\u001b[39miloc[\u001b[38;5;241m0\u001b[39m,:])\n",
      "\u001b[1;31mTypeError\u001b[0m: list indices must be integers or slices, not tuple"
     ]
    }
   ],
   "source": [
    "# visualize the first prediction's explaination with default colors\n",
    "shap.force_plot(explainer.expected_value, shap_values[0,:], X2.iloc[0,:])"
   ]
  },
  {
   "cell_type": "code",
   "execution_count": null,
   "id": "39bcaef9",
   "metadata": {},
   "outputs": [],
   "source": []
  }
 ],
 "metadata": {
  "kernelspec": {
   "display_name": "Python 3 (ipykernel)",
   "language": "python",
   "name": "python3"
  },
  "language_info": {
   "codemirror_mode": {
    "name": "ipython",
    "version": 3
   },
   "file_extension": ".py",
   "mimetype": "text/x-python",
   "name": "python",
   "nbconvert_exporter": "python",
   "pygments_lexer": "ipython3",
   "version": "3.11.3"
  }
 },
 "nbformat": 4,
 "nbformat_minor": 5
}
